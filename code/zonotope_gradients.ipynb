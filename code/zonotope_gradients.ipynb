{
 "cells": [
  {
   "cell_type": "code",
   "source": [
    "import torch\n",
    "from torch import tensor, matmul, FloatTensor\n",
    "import numpy as np\n",
    "import matplotlib.pyplot as plt"
   ],
   "outputs": [],
   "execution_count": 3,
   "metadata": {
    "collapsed": true,
    "pycharm": {
     "is_executing": false
    }
   }
  },
  {
   "cell_type": "markdown",
   "source": [
    "$\\text{Input Domain}: L_\\infty$\n",
    "\n",
    "\\begin{equation}\n",
    "\\psi : \\left( \\begin{array}{c}x \\\\ y \\\\ \\end{array} \\right)=\n",
    "\\left( \\begin{array}{c}x_0 \\\\ y_0 \\\\ \\end{array} \\right)\n",
    "+\\epsilon_1\\left( \\begin{array}{c} \\eta \\\\ 0 \\\\ \\end{array} \\right)\n",
    "+\\epsilon_2 \\left( \\begin{array}{c}0 \\\\ \\eta \\\\ \\end{array} \\right)\n",
    "\\end{equation}\n",
    "\n",
    "\n",
    "$\\forall\\,i,\\,-1\\leq\\epsilon_i\\leq1$"
   ],
   "metadata": {
    "collapsed": false
   }
  },
  {
   "cell_type": "markdown",
   "source": [
    "Affine transform\n",
    "\n",
    "\\begin{equation}\n",
    "\\left(\n",
    "\\begin{array}{cc}\n",
    " w_{1,1} & w_{1,2} \\\\\n",
    " w_{2,1} & w_{2,2} \\\\\n",
    "\\end{array}\n",
    "\\right).\\left(\n",
    "\\begin{array}{ccc}\n",
    " x_0 & \\eta  & 0 \\\\\n",
    " y_0 & 0 & \\eta  \\\\\n",
    "\\end{array}\n",
    "\\right)+\\left(\n",
    "\\begin{array}{c}\n",
    " b_1 & 0 & 0 \\\\\n",
    " b_2 & 0 & 0\\\\\n",
    "\\end{array}\n",
    "\\right)\n",
    "\\end{equation}\n"
   ],
   "metadata": {
    "collapsed": false
   }
  },
  {
   "cell_type": "code",
   "source": [
    "def box(x):\n",
    "    radius = torch.sum(torch.abs(x[1:]))\n",
    "    return x[0] - radius, x[0] + radius"
   ],
   "outputs": [],
   "execution_count": 4,
   "metadata": {
    "collapsed": false,
    "pycharm": {
     "name": "#%%\n",
     "is_executing": false
    }
   }
  },
  {
   "cell_type": "markdown",
   "source": [
    "\\begin{equation}\n",
    "ReLU^{\\#}(x)=\n",
    "\\lambda  x+ \\frac{1}{2} \\left(\\epsilon _{\\text{new}}+1\\right)\\begin{cases}\n",
    " -l \\lambda  & \\lambda >\\frac{u}{u-l} \\\\\n",
    " u (1-\\lambda ) & \\text{Otherwise} \\\\\n",
    "\\end{cases}\n",
    "\\end{equation}"
   ],
   "metadata": {
    "collapsed": false,
    "pycharm": {
     "name": "#%% md\n"
    }
   }
  },
  {
   "cell_type": "code",
   "source": [
    "def relu_layer_transformer(layer, lambdas):\n",
    "    boxes =  [box(n) for n in layer]\n",
    "    _, epsilon_id = layer.shape\n",
    "    for i, (l, u), lmb in zip(range(len(layer)), boxes, lambdas):\n",
    "        if u <= 0:\n",
    "            # FixMe\n",
    "            torch.zero_(layer[i])\n",
    "        elif l < 0:\n",
    "            layer = torch.nn.ConstantPad2d((0, 1),0)(layer)  \n",
    "            layer[i] *= lmb\n",
    "            \n",
    "            if lmb >= u/(u-1):\n",
    "                layer[i][epsilon_id] = -l * lmb / 2\n",
    "            else:\n",
    "                layer[i][epsilon_id] = u * (1 - lmb)\n",
    "\n",
    "            layer[i][0] += layer[i][epsilon_id]\n",
    "            epsilon_id += 1\n",
    "            \n",
    "    return layer\n",
    "\n",
    "def add_bias(layer, bias):\n",
    "    #A probably worse approach is to pad right and matrix add\n",
    "    #return layer + torch.nn.ConstantPad2d((0, layer.shape[1] - 1),0)(b)\n",
    "    for n, b in zip(layer, bias):\n",
    "        n[0] += b[0]\n",
    "    return layer"
   ],
   "outputs": [],
   "execution_count": 137,
   "metadata": {
    "collapsed": false,
    "pycharm": {
     "name": "#%%\n",
     "is_executing": false
    }
   }
  },
  {
   "cell_type": "code",
   "source": [
    "def optimize(attempts, steps_per_attempt, weights, biases, learning_rate = 0.005):\n",
    "    loss_history = np.empty((attempts,steps_per_attempt))\n",
    "    num_layers = weights.shape[0]\n",
    "    # Initialize weights and biases\n",
    "    x0, y0, eta = 1/4, 1/5, .1\n",
    "    for attempt in range(attempts):\n",
    "        # Initialize lambdas\n",
    "        lambdas = torch.rand(num_layers, 2, requires_grad=True)\n",
    "        # Gradient descent loop\n",
    "        for step in range(steps_per_attempt):\n",
    "            # First layer of network\n",
    "            layer = tensor([[x0, eta, 0],[y0, 0, eta]], requires_grad=True)\n",
    "            # apply network layers\n",
    "            for w, b, l in zip(weights, biases, lambdas):\n",
    "                layer = add_bias(matmul(w , layer), b)\n",
    "                layer = relu_layer_transformer(layer, l)\n",
    "            \n",
    "            # Compute loss and update gradients\n",
    "            loss = box(layer[1] - layer[0])[1]\n",
    "            loss_history[attempt][step] = loss\n",
    "            loss.backward()\n",
    "            if lambdas.grad is not None:\n",
    "                lambdas = torch.clamp(lambdas - learning_rate * lambdas.grad, 0, 1).clone().detach().requires_grad_(True)\n",
    "    return loss_history"
   ],
   "outputs": [],
   "execution_count": 138,
   "metadata": {
    "collapsed": false,
    "outputHidden": false,
    "inputHidden": false,
    "pycharm": {
     "is_executing": false
    }
   }
  },
  {
   "cell_type": "markdown",
   "source": [
    "Optimizing $\\vec{\\lambda}$ for $50$ steps starting from $5$ different points"
   ],
   "metadata": {}
  },
  {
   "cell_type": "code",
   "source": [
    "num_layers = 5\n",
    "weights = torch.randn(num_layers, 2, 2)\n",
    "biases =  torch.randn(num_layers, 2, 1)\n",
    "plt.plot(np.transpose(optimize(20, 20, weights, biases, learning_rate=.05)))\n",
    "plt.xlabel(\"Training Step\")\n",
    "plt.ylabel(\"Loss\")\n",
    "plt.show()"
   ],
   "outputs": [
    {
     "data": {
      "text/plain": "<Figure size 432x288 with 1 Axes>",
      "image/png": "[encoded data removed]"
     },
     "metadata": {},
     "output_type": "display_data"
    }
   ],
   "execution_count": 139,
   "metadata": {
    "collapsed": false,
    "pycharm": {
     "name": "#%%\n",
     "is_executing": false
    }
   }
  },
  {
   "cell_type": "markdown",
   "source": [
    "Optimizing for $1$ step starting from $1000$ different starting points. This is equivalent to random guessing for $\\lambda\\ldots$"
   ],
   "metadata": {}
  },
  {
   "cell_type": "code",
   "source": [
    "plt.hist(optimize(250, 1, weights, biases).flatten())\n",
    "plt.xlabel(\"Loss\")\n",
    "plt.ylabel(\"Occurrences\")\n",
    "plt.show()"
   ],
   "outputs": [
    {
     "data": {
      "text/plain": "<Figure size 432x288 with 1 Axes>",
      "image/png": "[encoded data removed]"
     },
     "metadata": {},
     "output_type": "display_data"
    }
   ],
   "execution_count": 82,
   "metadata": {
    "collapsed": false,
    "outputHidden": false,
    "inputHidden": false,
    "pycharm": {
     "is_executing": false
    }
   }
  },
  {
   "cell_type": "code",
   "execution_count": null,
   "outputs": [],
   "source": [
    "\n",
    "\n",
    "\n"
   ],
   "metadata": {
    "collapsed": false,
    "pycharm": {
     "name": "#%%\n"
    }
   }
  }
 ],
 "metadata": {
  "language_info": {
   "name": "python",
   "version": "3.7.4",
   "mimetype": "text/x-python",
   "codemirror_mode": {
    "name": "ipython",
    "version": 3
   },
   "pygments_lexer": "ipython3",
   "nbconvert_exporter": "python",
   "file_extension": ".py"
  },
  "kernelspec": {
   "name": "python3",
   "language": "python",
   "display_name": "Python 3"
  },
  "pycharm": {
   "stem_cell": {
    "cell_type": "raw",
    "source": [],
    "metadata": {
     "collapsed": false
    }
   }
  },
  "kernel_info": {
   "name": "python3"
  },
  "nteract": {
   "version": "0.12.3"
  }
 },
 "nbformat": 4,
 "nbformat_minor": 0
}