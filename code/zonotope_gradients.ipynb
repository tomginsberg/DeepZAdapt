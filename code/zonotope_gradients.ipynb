{
 "cells": [
  {
   "cell_type": "code",
   "execution_count": 66,
   "metadata": {
    "collapsed": true,
    "pycharm": {
     "is_executing": false
    }
   },
   "outputs": [],
   "source": [
    "import torch\n",
    "from torch import tensor, matmul, FloatTensor\n",
    "\n",
    "def layer(x):\n",
    "    w = tensor([[1.,2.],[3.,-4.]])\n",
    "    b = tensor([[1.],[2.]])\n",
    "    return torch.relu(matmul(w, x) + b)"
   ]
  },
  {
   "cell_type": "code",
   "execution_count": 69,
   "outputs": [
    {
     "name": "stdout",
     "text": [
      "tensor(2., grad_fn=<SumBackward0>)\n"
     ],
     "output_type": "stream"
    },
    {
     "data": {
      "text/plain": "tensor([[1.],\n        [2.]])"
     },
     "metadata": {},
     "output_type": "execute_result",
     "execution_count": 69
    }
   ],
   "source": [
    "x = tensor([[-1],[1]], dtype=torch.float)\n",
    "x.requires_grad_()\n",
    "output = torch.sum(matmul(tensor([1.,-1.]), layer(x)))\n",
    "output.backward()\n",
    "print(output)\n",
    "x.grad"
   ],
   "metadata": {
    "collapsed": false,
    "pycharm": {
     "name": "#%%\n",
     "is_executing": false
    }
   }
  },
  {
   "cell_type": "code",
   "execution_count": null,
   "outputs": [],
   "source": [
    "# Input \n",
    "# x = .25 + .01eps1\n",
    "# y = .1 + .01eps2\n"
   ],
   "metadata": {
    "collapsed": false,
    "pycharm": {
     "name": "#%%\n"
    }
   }
  },
  {
   "cell_type": "markdown",
   "source": [
    "$\\text{Input Domain}: L_\\infty$\n",
    "\n",
    "\\begin{equation}\n",
    "\\psi : \\left( \\begin{array}{c}x \\\\ y \\\\ \\end{array} \\right)=\n",
    "\\left( \\begin{array}{c}x_0 \\\\ y_0 \\\\ \\end{array} \\right)\n",
    "+\\epsilon_1\\left( \\begin{array}{c} \\eta \\\\ 0 \\\\ \\end{array} \\right)\n",
    "+\\epsilon_2 \\left( \\begin{array}{c}0 \\\\ \\eta \\\\ \\end{array} \\right)\n",
    "\\end{equation}\n",
    "$,\\,\\forall\\,i,\\,-1\\leq\\epsilon_i\\leq1$"
   ],
   "metadata": {
    "collapsed": false
   }
  },
  {
   "cell_type": "code",
   "execution_count": 94,
   "outputs": [],
   "source": [
    "x0, y0, eta = 0., 0., 1.\n",
    "xy1 = tensor([[x0, eta, 0], [y0, 0, eta]])"
   ],
   "metadata": {
    "collapsed": false,
    "pycharm": {
     "name": "#%%\n",
     "is_executing": false
    }
   }
  },
  {
   "cell_type": "code",
   "execution_count": 102,
   "outputs": [],
   "source": [
    "# Compute affine transform \n",
    "# x3, x4 = -x1 + x2 + 1, 2x1 - x2 + 2\n",
    "w = torch.tensor([[-1, 1],[2, -1]], dtype=torch.float)\n",
    "b = torch.tensor([[1,0,0],[2,0,0]], dtype=torch.float)\n",
    "x3, x4 = matmul(w ,xy1) + b"
   ],
   "metadata": {
    "collapsed": false,
    "pycharm": {
     "name": "#%%\n",
     "is_executing": false
    }
   }
  },
  {
   "cell_type": "markdown",
   "source": [
    "Affine transform\n",
    "\n",
    "\\begin{equation}\n",
    "\\left(\n",
    "\\begin{array}{cc}\n",
    " w_{1,1} & w_{1,2} \\\\\n",
    " w_{2,1} & w_{2,2} \\\\\n",
    "\\end{array}\n",
    "\\right).\\left(\n",
    "\\begin{array}{ccc}\n",
    " x_0 & \\eta  & 0 \\\\\n",
    " y_0 & 0 & \\eta  \\\\\n",
    "\\end{array}\n",
    "\\right)+\\left(\n",
    "\\begin{array}{c}\n",
    " b_1 & 0 & 0 \\\\\n",
    " b_2 & 0 & 0\\\\\n",
    "\\end{array}\n",
    "\\right)\n",
    "\\end{equation}"
   ],
   "metadata": {
    "collapsed": false
   }
  },
  {
   "cell_type": "code",
   "execution_count": 100,
   "outputs": [],
   "source": [
    "def box(x):\n",
    "    radius = torch.sum(torch.abs(x[1:]))\n",
    "    return x[0] - radius, x[0] + radius"
   ],
   "metadata": {
    "collapsed": false,
    "pycharm": {
     "name": "#%%\n",
     "is_executing": false
    }
   }
  },
  {
   "cell_type": "markdown",
   "source": [
    "\\begin{equation}ReLU^{\\#}(x)=\n",
    "\\lambda  x+ \\frac{1}{2} \\left(\\epsilon _{\\text{new}}+1\\right)\\begin{cases}\n",
    " -l \\lambda  & \\lambda >\\frac{u}{u-l} \\\\\n",
    " u (1-\\lambda ) & \\text{Otherwise} \\\\\n",
    "\\end{cases}\n",
    "\\end{equation}"
   ],
   "metadata": {
    "collapsed": false,
    "pycharm": {
     "name": "#%% md\n"
    }
   }
  },
  {
   "cell_type": "code",
   "execution_count": 114,
   "outputs": [],
   "source": [
    "def relu_transformer(x, lmb, epsilon_id = None):\n",
    "    l, u = box(x)\n",
    "    if u <= 0:\n",
    "        return torch.zeros(len(x))\n",
    "    elif l >= 0:\n",
    "        return x\n",
    "    else:\n",
    "        if epsilon_id is None:\n",
    "            epsilon_id = len(x)\n",
    "        x = torch.nn.ConstantPad1d((0, epsilon_id - len(x) + 1),0)(x)\n",
    "        x *= lmb\n",
    "        if lmb >= u/(u-1):\n",
    "            x[epsilon_id] = -l * lmb / 2\n",
    "        else:\n",
    "            x[epsilon_id] = u * (1 - lmb)\n",
    "        \n",
    "        x[0] += x[epsilon_id]\n",
    "        return x"
   ],
   "metadata": {
    "collapsed": false,
    "pycharm": {
     "name": "#%%\n",
     "is_executing": false
    }
   }
  },
  {
   "cell_type": "code",
   "execution_count": 128,
   "outputs": [
    {
     "name": "stdout",
     "text": [
      "(tensor(1), tensor(1))\n"
     ],
     "output_type": "stream"
    },
    {
     "traceback": [
      "\u001b[0;31m---------------------------------------------------------------------------\u001b[0m",
      "\u001b[0;31mRuntimeError\u001b[0m                              Traceback (most recent call last)",
      "\u001b[0;32m<ipython-input-128-008db68f900f>\u001b[0m in \u001b[0;36m<module>\u001b[0;34m()\u001b[0m\n\u001b[1;32m      4\u001b[0m \u001b[0mlmb\u001b[0m\u001b[0;34m.\u001b[0m\u001b[0mrequires_grad_\u001b[0m\u001b[0;34m(\u001b[0m\u001b[0;34m)\u001b[0m\u001b[0;34m\u001b[0m\u001b[0;34m\u001b[0m\u001b[0m\n\u001b[1;32m      5\u001b[0m \u001b[0my\u001b[0m \u001b[0;34m=\u001b[0m \u001b[0mtorch\u001b[0m\u001b[0;34m.\u001b[0m\u001b[0msum\u001b[0m\u001b[0;34m(\u001b[0m\u001b[0mrelu_transformer\u001b[0m\u001b[0;34m(\u001b[0m\u001b[0mx\u001b[0m\u001b[0;34m,\u001b[0m \u001b[0mlmb\u001b[0m\u001b[0;34m)\u001b[0m\u001b[0;34m)\u001b[0m\u001b[0;34m\u001b[0m\u001b[0;34m\u001b[0m\u001b[0m\n\u001b[0;32m----> 6\u001b[0;31m \u001b[0my\u001b[0m\u001b[0;34m.\u001b[0m\u001b[0mbackward\u001b[0m\u001b[0;34m(\u001b[0m\u001b[0;34m)\u001b[0m\u001b[0;34m\u001b[0m\u001b[0;34m\u001b[0m\u001b[0m\n\u001b[0m\u001b[1;32m      7\u001b[0m \u001b[0mprint\u001b[0m\u001b[0;34m(\u001b[0m\u001b[0mlmb\u001b[0m\u001b[0;34m.\u001b[0m\u001b[0mgrad\u001b[0m\u001b[0;34m)\u001b[0m\u001b[0;34m\u001b[0m\u001b[0;34m\u001b[0m\u001b[0m\n",
      "\u001b[0;32m/usr/local/lib/python3.7/site-packages/torch/tensor.py\u001b[0m in \u001b[0;36mbackward\u001b[0;34m(self, gradient, retain_graph, create_graph)\u001b[0m\n\u001b[1;32m    116\u001b[0m                 \u001b[0mproducts\u001b[0m\u001b[0;34m.\u001b[0m \u001b[0mDefaults\u001b[0m \u001b[0mto\u001b[0m\u001b[0;31m \u001b[0m\u001b[0;31m`\u001b[0m\u001b[0;31m`\u001b[0m\u001b[0;32mFalse\u001b[0m\u001b[0;31m`\u001b[0m\u001b[0;31m`\u001b[0m\u001b[0;34m.\u001b[0m\u001b[0;34m\u001b[0m\u001b[0;34m\u001b[0m\u001b[0m\n\u001b[1;32m    117\u001b[0m         \"\"\"\n\u001b[0;32m--> 118\u001b[0;31m         \u001b[0mtorch\u001b[0m\u001b[0;34m.\u001b[0m\u001b[0mautograd\u001b[0m\u001b[0;34m.\u001b[0m\u001b[0mbackward\u001b[0m\u001b[0;34m(\u001b[0m\u001b[0mself\u001b[0m\u001b[0;34m,\u001b[0m \u001b[0mgradient\u001b[0m\u001b[0;34m,\u001b[0m \u001b[0mretain_graph\u001b[0m\u001b[0;34m,\u001b[0m \u001b[0mcreate_graph\u001b[0m\u001b[0;34m)\u001b[0m\u001b[0;34m\u001b[0m\u001b[0;34m\u001b[0m\u001b[0m\n\u001b[0m\u001b[1;32m    119\u001b[0m \u001b[0;34m\u001b[0m\u001b[0m\n\u001b[1;32m    120\u001b[0m     \u001b[0;32mdef\u001b[0m \u001b[0mregister_hook\u001b[0m\u001b[0;34m(\u001b[0m\u001b[0mself\u001b[0m\u001b[0;34m,\u001b[0m \u001b[0mhook\u001b[0m\u001b[0;34m)\u001b[0m\u001b[0;34m:\u001b[0m\u001b[0;34m\u001b[0m\u001b[0;34m\u001b[0m\u001b[0m\n",
      "\u001b[0;32m/usr/local/lib/python3.7/site-packages/torch/autograd/__init__.py\u001b[0m in \u001b[0;36mbackward\u001b[0;34m(tensors, grad_tensors, retain_graph, create_graph, grad_variables)\u001b[0m\n\u001b[1;32m     91\u001b[0m     Variable._execution_engine.run_backward(\n\u001b[1;32m     92\u001b[0m         \u001b[0mtensors\u001b[0m\u001b[0;34m,\u001b[0m \u001b[0mgrad_tensors\u001b[0m\u001b[0;34m,\u001b[0m \u001b[0mretain_graph\u001b[0m\u001b[0;34m,\u001b[0m \u001b[0mcreate_graph\u001b[0m\u001b[0;34m,\u001b[0m\u001b[0;34m\u001b[0m\u001b[0;34m\u001b[0m\u001b[0m\n\u001b[0;32m---> 93\u001b[0;31m         allow_unreachable=True)  # allow_unreachable flag\n\u001b[0m\u001b[1;32m     94\u001b[0m \u001b[0;34m\u001b[0m\u001b[0m\n\u001b[1;32m     95\u001b[0m \u001b[0;34m\u001b[0m\u001b[0m\n",
      "\u001b[0;31mRuntimeError\u001b[0m: element 0 of tensors does not require grad and does not have a grad_fn"
     ],
     "ename": "RuntimeError",
     "evalue": "element 0 of tensors does not require grad and does not have a grad_fn",
     "output_type": "error"
    }
   ],
   "source": [
    "x = tensor([1,1, -1])\n",
    "print(box(x))\n",
    "lmb = torch.tensor(1/3).float()\n",
    "lmb.requires_grad_()\n",
    "y = torch.sum(relu_transformer(x, lmb))\n",
    "y.backward()\n",
    "print(lmb.grad)"
   ],
   "metadata": {
    "collapsed": false,
    "pycharm": {
     "name": "#%%\n",
     "is_executing": false
    }
   }
  },
  {
   "cell_type": "code",
   "execution_count": null,
   "outputs": [],
   "source": [
    "\n"
   ],
   "metadata": {
    "collapsed": false,
    "pycharm": {
     "name": "#%%\n"
    }
   }
  }
 ],
 "metadata": {
  "language_info": {
   "codemirror_mode": {
    "name": "ipython",
    "version": 2
   },
   "file_extension": ".py",
   "mimetype": "text/x-python",
   "name": "python",
   "nbconvert_exporter": "python",
   "pygments_lexer": "ipython2",
   "version": "2.7.6"
  },
  "kernelspec": {
   "name": "python3",
   "language": "python",
   "display_name": "Python 3"
  },
  "pycharm": {
   "stem_cell": {
    "cell_type": "raw",
    "source": [],
    "metadata": {
     "collapsed": false
    }
   }
  }
 },
 "nbformat": 4,
 "nbformat_minor": 0
}